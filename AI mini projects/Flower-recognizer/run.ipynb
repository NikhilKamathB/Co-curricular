{
 "cells": [
  {
   "cell_type": "markdown",
   "metadata": {},
   "source": [
    "# GCP Vertex AI.\n",
    "\n",
    "The following are the step that I followed to setup GCP Vertex AI.\n",
    "\n",
    "* Enable appropriate (Vertex AI) API.\n",
    "* Create a notebook instance.\n",
    "* Create a cloud storage if necessary.\n",
    "\n",
    "The main components of GCP Vertex AI are:\n",
    "* Datasets\n",
    "* Features\n",
    "* Labelling tasks\n",
    "* Notebooks\n",
    "* AutoML\n",
    "* Pipelines\n",
    "  \n",
    "This notebook demonstrates how one could train and deploy the model on GCP Vertex AI.\n"
   ]
  },
  {
   "cell_type": "code",
   "execution_count": 3,
   "metadata": {},
   "outputs": [
    {
     "name": "stdout",
     "output_type": "stream",
     "text": [
      "env: GOOGLE_APPLICATION_CREDENTIALS=./__secrets__/project-v1-316310-cd20ec67e931.json\n"
     ]
    }
   ],
   "source": [
    "# Cell must be executed  only if you are using google colab or local system.\n",
    "import sys\n",
    "from dotenv import load_dotenv\n",
    "load_dotenv()\n",
    "if \"google.colab\" in sys.modules:\n",
    "    # Google colab authentication to use GCP.\n",
    "    from google.colab import auth as google_auth\n",
    "    google_auth.authenticate_user()\n",
    "else:\n",
    "    # Loacl system authentication to use GCP.\n",
    "    %env GOOGLE_APPLICATION_CREDENTIALS ./__secrets__/project-v1-316310-cd20ec67e931.json"
   ]
  },
  {
   "cell_type": "code",
   "execution_count": 4,
   "metadata": {},
   "outputs": [],
   "source": [
    "# Import libraries.\n",
    "import os\n",
    "from setup import net"
   ]
  },
  {
   "cell_type": "code",
   "execution_count": 6,
   "metadata": {},
   "outputs": [],
   "source": [
    "from google.cloud import storage\n",
    "storage_client = storage.Client()\n",
    "\n",
    "# Download the data\n",
    "bucket = storage_client.bucket(os.getenv('BUCKET_NAME', ''))\n",
    "all_blobs = list(storage_client.list_blobs(bucket))\n"
   ]
  },
  {
   "cell_type": "code",
   "execution_count": 9,
   "metadata": {},
   "outputs": [
    {
     "data": {
      "text/plain": [
       "<Blob: global_dataset, flower_dataset/daisy/100080576_f52e8ee070_n.jpg, 1624269038475134>"
      ]
     },
     "execution_count": 9,
     "metadata": {},
     "output_type": "execute_result"
    }
   ],
   "source": [
    "all_blobs[1]."
   ]
  },
  {
   "cell_type": "code",
   "execution_count": 8,
   "metadata": {},
   "outputs": [
    {
     "data": {
      "text/plain": [
       "['/media/tyche/E/ACTIVITIES/Co-curricular/AI mini projects/Flower-recognizer',\n",
       " '/home/tyche/.vscode/extensions/ms-toolsai.jupyter-2021.6.999406279/pythonFiles',\n",
       " '/home/tyche/.vscode/extensions/ms-toolsai.jupyter-2021.6.999406279/pythonFiles/lib/python',\n",
       " '/home/tyche/miniconda3/envs/ai/lib/python38.zip',\n",
       " '/home/tyche/miniconda3/envs/ai/lib/python3.8',\n",
       " '/home/tyche/miniconda3/envs/ai/lib/python3.8/lib-dynload',\n",
       " '',\n",
       " '/home/tyche/miniconda3/envs/ai/lib/python3.8/site-packages',\n",
       " '/home/tyche/miniconda3/envs/ai/lib/python3.8/site-packages/IPython/extensions',\n",
       " '/home/tyche/.ipython']"
      ]
     },
     "execution_count": 8,
     "metadata": {},
     "output_type": "execute_result"
    }
   ],
   "source": [
    "sys.path"
   ]
  },
  {
   "cell_type": "code",
   "execution_count": 5,
   "metadata": {},
   "outputs": [
    {
     "name": "stdout",
     "output_type": "stream",
     "text": [
      "__data__  README.md  requirements.txt  run.ipynb  __secrets__  setup\n"
     ]
    }
   ],
   "source": [
    "!ls"
   ]
  },
  {
   "cell_type": "code",
   "execution_count": 5,
   "metadata": {},
   "outputs": [
    {
     "name": "stdout",
     "output_type": "stream",
     "text": [
      "ff\n"
     ]
    }
   ],
   "source": [
    "with open(os.getenv('GOOGLE_APPLICATION_CREDENTIALS'), 'rb') as f:\n",
    "    print('ff')"
   ]
  },
  {
   "cell_type": "code",
   "execution_count": null,
   "metadata": {},
   "outputs": [],
   "source": []
  }
 ],
 "metadata": {
  "interpreter": {
   "hash": "e3215a66945b7423e5d1d76b8714d58851608700edc9674670a60d619c95f778"
  },
  "kernelspec": {
   "display_name": "Python 3.8.10 64-bit ('insureka': conda)",
   "name": "python3"
  },
  "language_info": {
   "codemirror_mode": {
    "name": "ipython",
    "version": 3
   },
   "file_extension": ".py",
   "mimetype": "text/x-python",
   "name": "python",
   "nbconvert_exporter": "python",
   "pygments_lexer": "ipython3",
   "version": "3.8.8"
  },
  "orig_nbformat": 4
 },
 "nbformat": 4,
 "nbformat_minor": 2
}