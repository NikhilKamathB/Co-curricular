{
 "cells": [
  {
   "cell_type": "markdown",
   "metadata": {},
   "source": [
    "# SECURITY AND AUTHENTICITY DURING DATA TRANSMISSION"
   ]
  },
  {
   "cell_type": "markdown",
   "metadata": {},
   "source": [
    "## BLOCK DIAGRAM"
   ]
  },
  {
   "cell_type": "markdown",
   "metadata": {},
   "source": [
    "<img src=\"image2.png\">"
   ]
  },
  {
   "cell_type": "markdown",
   "metadata": {},
   "source": [
    "## OVERVIEW OF OUR PROJECT"
   ]
  },
  {
   "cell_type": "markdown",
   "metadata": {},
   "source": [
    "<font size=\"4\"><br>STEP 1 - generate global numbers 'g' and 'n'; both are prime numbers"
   ]
  },
  {
   "cell_type": "markdown",
   "metadata": {},
   "source": [
    "<font size=\"4\"><br>STEP 2 - generate numbers 'a' and 'b'; both are system based, at sender's and receiver's side respectively "
   ]
  },
  {
   "cell_type": "markdown",
   "metadata": {},
   "source": [
    "<font size=\"4\"><br>STEP 3 - apply Diffie-Hellman key exchange algorithm"
   ]
  },
  {
   "cell_type": "markdown",
   "metadata": {},
   "source": [
    "<font size=\"4\"><br>STEP 4 - obtain value of 'alpha' at both end. **'alpha = F(private value)'**"
   ]
  },
  {
   "cell_type": "markdown",
   "metadata": {},
   "source": [
    "<font size=\"4\"><br>STEP 5 - assign intensity values to the character set belonging to data"
   ]
  },
  {
   "cell_type": "markdown",
   "metadata": {},
   "source": [
    "<font size=\"4\"><br>STEP 6 - generate a dictionary and an image based on these value at the sender's side. On the other hand, at receiver's side we generate only the dictionary"
   ]
  },
  {
   "cell_type": "markdown",
   "metadata": {},
   "source": [
    "<font size=\"4\"><br>STEP 7 - obtain value of 'beta' at both end. **'beta = F'(private value)'**"
   ]
  },
  {
   "cell_type": "markdown",
   "metadata": {},
   "source": [
    "<font size=\"4\"><br>STEP 8 - generate 3 images based on beta value at both ends"
   ]
  },
  {
   "cell_type": "markdown",
   "metadata": {},
   "source": [
    "<font size=\"4\"><br>STEP 9 - generate a signature by applying DSA at sender's side"
   ]
  },
  {
   "cell_type": "markdown",
   "metadata": {},
   "source": [
    "<font size=\"4\"><br>STEP 10 - combine all the images (at sender's side)"
   ]
  },
  {
   "cell_type": "markdown",
   "metadata": {},
   "source": [
    "<font size=\"4\"><br>STEP 11 - send this signature and the encrypted image containing message into network"
   ]
  },
  {
   "cell_type": "markdown",
   "metadata": {},
   "source": [
    "<font size=\"4\"><br>STEP 12 - take these entities from network, (at receiver) and seperate all the images"
   ]
  },
  {
   "cell_type": "markdown",
   "metadata": {},
   "source": [
    "<font size=\"4\"><br>STEP 13 - generate the message from the seperated images based on the dictionary generated initially"
   ]
  },
  {
   "cell_type": "markdown",
   "metadata": {},
   "source": [
    "<font size=\"4\"><br>STEP 14 - check for authenticity"
   ]
  },
  {
   "cell_type": "markdown",
   "metadata": {},
   "source": [
    "<font size=\"4\"><br>STEP 15 - display appropriate message"
   ]
  },
  {
   "cell_type": "markdown",
   "metadata": {},
   "source": [
    "## IMPORT LIBRARIES REQUIRED"
   ]
  },
  {
   "cell_type": "code",
   "execution_count": 1,
   "metadata": {},
   "outputs": [],
   "source": [
    "from Crypto.Util import number\n",
    "import numpy as np\n",
    "import random\n",
    "from PIL import Image\n",
    "from Crypto.PublicKey import DSA\n",
    "from Crypto.Signature import DSS\n",
    "from Crypto.Hash import SHA512"
   ]
  },
  {
   "cell_type": "markdown",
   "metadata": {},
   "source": [
    "### GENERATING KEYS REQUIRED FOR DSA"
   ]
  },
  {
   "cell_type": "code",
   "execution_count": 2,
   "metadata": {},
   "outputs": [],
   "source": [
    "def generate():\n",
    "    key = DSA.generate(2048)\n",
    "    f = open(\"public_key.pem\", \"wb\")\n",
    "    f.write(key.publickey().export_key())\n",
    "    f.close()\n",
    "    return key"
   ]
  },
  {
   "cell_type": "markdown",
   "metadata": {},
   "source": [
    "### SIGNING A MESSAGE"
   ]
  },
  {
   "cell_type": "code",
   "execution_count": 3,
   "metadata": {},
   "outputs": [],
   "source": [
    "def sign(msg, key):\n",
    "    message = msg.encode()\n",
    "    hash_obj = SHA512.new(message)\n",
    "    signer = DSS.new(key, 'fips-186-3')\n",
    "    signature = signer.sign(hash_obj)\n",
    "    return signature"
   ]
  },
  {
   "cell_type": "markdown",
   "metadata": {},
   "source": [
    "### AUTHENTICATING THE SIGNATURE"
   ]
  },
  {
   "cell_type": "code",
   "execution_count": 4,
   "metadata": {},
   "outputs": [],
   "source": [
    "def authenticate(msg, signature):\n",
    "    message = msg.encode()\n",
    "    f = open(\"public_key.pem\", \"r\")\n",
    "    hash_obj = SHA512.new(message)\n",
    "    pub_key = DSA.import_key(f.read())\n",
    "    verifier = DSS.new(pub_key, 'fips-186-3')\n",
    "\n",
    "    try:\n",
    "        verifier.verify(hash_obj, signature)\n",
    "        print(\"The message is authentic.\")\n",
    "    except ValueError:\n",
    "        print(\"The message is not authentic.\")"
   ]
  },
  {
   "cell_type": "markdown",
   "metadata": {},
   "source": [
    "### INITIALIZING GLOBAL ENTITIES"
   ]
  },
  {
   "cell_type": "code",
   "execution_count": 5,
   "metadata": {},
   "outputs": [],
   "source": [
    "global signature_dsa\n",
    "global img_fuse\n",
    "global I_g\n",
    "ar = np.zeros([720, 1280, 3], dtype=np.uint8)\n",
    "ar.fill(0)\n",
    "img_fuse = Image.fromarray(ar)\n",
    "I_g = np.asarray(img_fuse)\n",
    "global g\n",
    "g = 0\n",
    "global n\n",
    "n = 0\n",
    "n_length = random.randint(256, 1024)\n",
    "g = number.getPrime(n_length)\n",
    "n_length = random.randint(256, 512)\n",
    "n = number.getPrime(n_length)\n",
    "global g_power_a_mod_n\n",
    "g_power_a_mod_n = 0\n",
    "global g_power_b_mod_n\n",
    "g_power_b_mod_n = 0\n",
    "global s"
   ]
  },
  {
   "cell_type": "markdown",
   "metadata": {},
   "source": [
    "### INITIALIZING SENDER"
   ]
  },
  {
   "cell_type": "code",
   "execution_count": 6,
   "metadata": {},
   "outputs": [],
   "source": [
    "class SENDER_STEP_1:\n",
    "    r = random.SystemRandom()\n",
    "    a = r.randint(1, 255)\n",
    "\n",
    "    def g_pow_a(self):\n",
    "        x = (pow(g, SENDER_STEP_1.a) % n)\n",
    "        return x"
   ]
  },
  {
   "cell_type": "markdown",
   "metadata": {},
   "source": [
    "### INITIALIZING RECEIVER"
   ]
  },
  {
   "cell_type": "code",
   "execution_count": 7,
   "metadata": {},
   "outputs": [],
   "source": [
    "class RECEIVER_STEP_1:\n",
    "    r = random.SystemRandom()\n",
    "    b = r.randint(1, 255)\n",
    "\n",
    "    def g_pow_b(self):\n",
    "        y = (pow(g, RECEIVER_STEP_1.b) % n)\n",
    "        return y"
   ]
  },
  {
   "cell_type": "markdown",
   "metadata": {},
   "source": [
    "### TO EXCHANGE THE VALUES g_power_a_mod_n AND g_power_b_mod_n"
   ]
  },
  {
   "cell_type": "code",
   "execution_count": 8,
   "metadata": {},
   "outputs": [],
   "source": [
    "class1 = SENDER_STEP_1()\n",
    "class2 = RECEIVER_STEP_1()\n",
    "g_power_a_mod_n = class1.g_pow_a()\n",
    "g_power_b_mod_n = class2.g_pow_b()"
   ]
  },
  {
   "cell_type": "markdown",
   "metadata": {},
   "source": [
    "### SENDER IN ACTION"
   ]
  },
  {
   "cell_type": "code",
   "execution_count": 9,
   "metadata": {},
   "outputs": [],
   "source": [
    "class SENDER_STEP_2(SENDER_STEP_1):\n",
    "    def cipher(self):\n",
    "        g_power_ab = pow(g_power_b_mod_n, SENDER_STEP_2.a) % n\n",
    "        dict_id = {'A': [],\n",
    "                   'B': [],\n",
    "                   'C': [],\n",
    "                   'D': [],\n",
    "                   'E': [],\n",
    "                   'F': [],\n",
    "                   'G': [],\n",
    "                   'H': [],\n",
    "                   'I': [],\n",
    "                   'J': [],\n",
    "                   'K': [],\n",
    "                   'L': [],\n",
    "                   'M': [],\n",
    "                   'N': [],\n",
    "                   'O': [],\n",
    "                   'P': [],\n",
    "                   'Q': [],\n",
    "                   'R': [],\n",
    "                   'S': [],\n",
    "                   'T': [],\n",
    "                   'U': [],\n",
    "                   'V': [],\n",
    "                   'W': [],\n",
    "                   'X': [],\n",
    "                   'Y': [],\n",
    "                   'Z': []}\n",
    "        random.seed(g_power_ab)\n",
    "        alpha = random.randint(0, 255)\n",
    "        count_factor = ((alpha) % 11) + 1\n",
    "        total_assignment_intensities = int(256 / 26)\n",
    "        remaining_intensities = 256 % 26\n",
    "        list = []\n",
    "        a = ((alpha ** 2) * g_power_ab) % 256\n",
    "        for keys, values in dict_id.items():\n",
    "\n",
    "            for i in range(0, total_assignment_intensities):\n",
    "                random.seed(a)\n",
    "                j = random.randint(0, 255)\n",
    "                alpha_j = a + j\n",
    "                while(True):\n",
    "                    if alpha_j <= 255:\n",
    "                        if alpha_j not in list:\n",
    "                            values.append(alpha_j)\n",
    "                            list.append(alpha_j)\n",
    "                            break\n",
    "                        else:\n",
    "                            alpha_j = alpha_j+1\n",
    "                            continue\n",
    "                    else:\n",
    "                        alpha_j = alpha_j % 256\n",
    "                a = (j + ((alpha ** 2) * g_power_ab) % 256) % 256\n",
    "            a = a+count_factor\n",
    "\n",
    "        for keys, values in dict_id.items():\n",
    "            print(keys, '   ', values)\n",
    "\n",
    "        '''list1 = []\n",
    "        for keys, values in dict_id.items():\n",
    "            for items in values:\n",
    "                list1.append(items)\n",
    "        print(len(list1))\n",
    "        print(len(set(list1)))'''\n",
    "\n",
    "        not_in_list = []\n",
    "        for i in range(0, 256):\n",
    "            if i not in list:\n",
    "                not_in_list.append(i)\n",
    "        # print(not_in_list)\n",
    "        # print(len(not_in_list))\n",
    "\n",
    "        s_hash_msg = ''\n",
    "        for i in not_in_list:\n",
    "            s_hash_msg = s_hash_msg+str(i)\n",
    "\n",
    "        random.seed(g_power_ab)\n",
    "        beta = random.randint(0, 255)\n",
    "        # print(\"beta = \", beta)\n",
    "        # --------------------------\n",
    "\n",
    "        asci = 0\n",
    "        s = \"NMAMITNIT\"\n",
    "        for i in s:\n",
    "            asci = asci + ord(i)\n",
    "        si = str(pow(asci, beta))\n",
    "\n",
    "        s_hash_msg = s_hash_msg+si\n",
    "        h = 720\n",
    "        w = 1280\n",
    "        array = np.zeros([h, w, 3], dtype=np.uint8)\n",
    "        pointer = 0\n",
    "        length = len(s)\n",
    "        for i in range(h):\n",
    "            for j in range(w):\n",
    "                if pointer < length:\n",
    "                    k = s[pointer]\n",
    "                    r = random.choice(dict_id[k])\n",
    "                    g = random.choice(dict_id[k])\n",
    "                    b = random.choice(dict_id[k])\n",
    "                    array[i, j] = [r, g, b]\n",
    "                    pointer = pointer+1\n",
    "                else:\n",
    "                    r = random.choice(not_in_list)\n",
    "                    g = random.choice(not_in_list)\n",
    "                    b = random.choice(not_in_list)\n",
    "                    array[i, j] = [r, g, b]\n",
    "        img_decode = Image.fromarray(array)\n",
    "        img_decode.show()\n",
    "        Is1 = np.asarray(img_decode)\n",
    "\n",
    "        array1 = np.zeros([h, w, 3], dtype=np.uint8)\n",
    "        beta_1 = (beta * g_power_ab) % 256\n",
    "        for i in range(h):\n",
    "            for j in range(w):\n",
    "                r = (pow((beta_1*alpha), 2) % 256)\n",
    "                g = (pow((beta_1*alpha+100), 2) % 256)\n",
    "                b = (pow((beta_1*alpha+150), 2) % 256)\n",
    "                beta_1 = beta_1 + 50\n",
    "                array1[i, j] = [r, g, b]\n",
    "        imgps = Image.fromarray(array1)\n",
    "        imgps.show()\n",
    "\n",
    "        Is2 = np.asarray(imgps)\n",
    "\n",
    "        array2 = np.zeros([h, w, 3], dtype=np.uint8)\n",
    "        random.seed(beta*g_power_ab*alpha)\n",
    "        array2.fill(random.randint(0, 255))\n",
    "        imgps2 = Image.fromarray(array2)\n",
    "        imgps2.show()\n",
    "        Is4 = np.asarray(imgps2)\n",
    "\n",
    "        img_global = Image.open(\"1.jpg\")\n",
    "        Is3 = np.asarray(img_global)\n",
    "\n",
    "        Ires = ((Is1+Is2)+(beta*Is3))+Is4\n",
    "        img_fuse = Image.fromarray(Ires)\n",
    "        img_fuse.show()\n",
    "\n",
    "        dsa_key = generate()\n",
    "        signing = sign(s_hash_msg, dsa_key)\n",
    "\n",
    "        return Ires, s, signing"
   ]
  },
  {
   "cell_type": "markdown",
   "metadata": {},
   "source": [
    "### SENDING THE ENCRYPTED MESSAGE AND SIGNATURE INTO NETWORK"
   ]
  },
  {
   "cell_type": "code",
   "execution_count": 10,
   "metadata": {},
   "outputs": [
    {
     "name": "stdout",
     "output_type": "stream",
     "text": [
      "A     [124, 10, 210, 50, 204, 21, 252, 205, 58]\n",
      "B     [59, 175, 235, 219, 189, 57, 178, 143, 222]\n",
      "C     [206, 91, 191, 88, 216, 207, 60, 176, 236]\n",
      "D     [165, 24, 169, 147, 139, 156, 242, 22, 26]\n",
      "E     [220, 173, 217, 170, 148, 140, 157, 243, 23]\n",
      "F     [97, 36, 237, 9, 149, 141, 158, 244, 25]\n",
      "G     [98, 37, 238, 11, 150, 142, 159, 245, 27]\n",
      "H     [99, 38, 239, 12, 151, 144, 160, 246, 28]\n",
      "I     [100, 39, 240, 13, 152, 145, 161, 247, 29]\n",
      "J     [101, 40, 241, 14, 153, 146, 162, 248, 30]\n",
      "K     [102, 41, 249, 15, 154, 155, 163, 250, 31]\n",
      "L     [103, 42, 251, 16, 164, 166, 167, 253, 32]\n",
      "M     [104, 43, 254, 17, 168, 171, 172, 255, 33]\n",
      "N     [105, 44, 0, 18, 174, 177, 179, 1, 34]\n",
      "O     [106, 45, 2, 19, 180, 181, 182, 3, 35]\n",
      "P     [107, 46, 4, 20, 183, 184, 185, 5, 47]\n",
      "Q     [108, 48, 6, 49, 186, 187, 188, 7, 51]\n",
      "R     [109, 52, 8, 53, 190, 192, 193, 54, 55]\n",
      "S     [110, 56, 61, 62, 194, 195, 196, 63, 64]\n",
      "T     [111, 65, 66, 67, 197, 198, 199, 68, 69]\n",
      "U     [112, 70, 71, 72, 200, 201, 202, 73, 74]\n",
      "V     [113, 75, 76, 77, 203, 208, 209, 78, 79]\n",
      "W     [114, 80, 81, 82, 211, 212, 213, 83, 84]\n",
      "X     [115, 85, 86, 87, 214, 215, 218, 89, 90]\n",
      "Y     [116, 92, 93, 94, 221, 223, 224, 95, 96]\n",
      "Z     [117, 118, 119, 120, 225, 226, 227, 121, 122]\n"
     ]
    }
   ],
   "source": [
    "class_sender = SENDER_STEP_2()\n",
    "I_g, s, signature_dsa = class_sender.cipher()\n",
    "img_fuse = Image.fromarray(I_g)"
   ]
  },
  {
   "cell_type": "markdown",
   "metadata": {},
   "source": [
    "### RECEIVER IN ACTION"
   ]
  },
  {
   "cell_type": "code",
   "execution_count": 11,
   "metadata": {},
   "outputs": [],
   "source": [
    "class RECEIVER_STEP_2(RECEIVER_STEP_1):\n",
    "    def decipher(self):\n",
    "        g_power_ab = pow(g_power_a_mod_n, RECEIVER_STEP_2.b) % n\n",
    "        dict_id = {'A': [],\n",
    "                   'B': [],\n",
    "                   'C': [],\n",
    "                   'D': [],\n",
    "                   'E': [],\n",
    "                   'F': [],\n",
    "                   'G': [],\n",
    "                   'H': [],\n",
    "                   'I': [],\n",
    "                   'J': [],\n",
    "                   'K': [],\n",
    "                   'L': [],\n",
    "                   'M': [],\n",
    "                   'N': [],\n",
    "                   'O': [],\n",
    "                   'P': [],\n",
    "                   'Q': [],\n",
    "                   'R': [],\n",
    "                   'S': [],\n",
    "                   'T': [],\n",
    "                   'U': [],\n",
    "                   'V': [],\n",
    "                   'W': [],\n",
    "                   'X': [],\n",
    "                   'Y': [],\n",
    "                   'Z': []}\n",
    "        random.seed(g_power_ab)\n",
    "        alpha = random.randint(0, 255)\n",
    "        count_factor = ((alpha) % 11) + 1\n",
    "        total_assignment_intensities = int(256 / 26)\n",
    "        remaining_intensities = 256 % 26\n",
    "        list = []\n",
    "        a = ((alpha ** 2) * g_power_ab) % 256\n",
    "\n",
    "        for keys, values in dict_id.items():\n",
    "\n",
    "            for i in range(0, total_assignment_intensities):\n",
    "                random.seed(a)\n",
    "                j = random.randint(0, 255)\n",
    "                alpha_j = a + j\n",
    "                while(True):\n",
    "                    if alpha_j <= 255:\n",
    "                        if alpha_j not in list:\n",
    "                            values.append(alpha_j)\n",
    "                            list.append(alpha_j)\n",
    "                            break\n",
    "                        else:\n",
    "                            alpha_j = alpha_j+1\n",
    "                            continue\n",
    "                    else:\n",
    "                        alpha_j = alpha_j % 256\n",
    "                a = (j + ((alpha ** 2) * g_power_ab) % 256) % 256\n",
    "            a = a+count_factor\n",
    "\n",
    "        for keys, values in dict_id.items():\n",
    "            print(keys, '   ', values)\n",
    "\n",
    "        '''list1 = []\n",
    "        for keys, values in dict_id.items():\n",
    "            for items in values:\n",
    "                list1.append(items)\n",
    "        print(len(list1))\n",
    "        print(len(set(list1)))'''\n",
    "\n",
    "        not_in_list = []\n",
    "        for i in range(0, 256):\n",
    "            if i not in list:\n",
    "                not_in_list.append(i)\n",
    "        # print(not_in_list)\n",
    "        # print(len(not_in_list))\n",
    "\n",
    "        s_hash_msg = ''\n",
    "        for i in not_in_list:\n",
    "            s_hash_msg = s_hash_msg+str(i)\n",
    "\n",
    "        random.seed(g_power_ab)\n",
    "        beta = random.randint(0, 255)\n",
    "        # print(\"beta = \", beta)\n",
    "\n",
    "        # ------------------------\n",
    "\n",
    "        h = 720\n",
    "        w = 1280\n",
    "        array1 = np.zeros([h, w, 3], dtype=np.uint8)\n",
    "        beta_1 = (beta * g_power_ab) % 256\n",
    "\n",
    "        for i in range(h):\n",
    "            for j in range(w):\n",
    "                r = (pow((beta_1*alpha), 2) % 256)\n",
    "                g = (pow((beta_1*alpha+100), 2) % 256)\n",
    "                b = (pow((beta_1*alpha+150), 2) % 256)\n",
    "                beta_1 = beta_1 + 50\n",
    "                array1[i, j] = [r, g, b]\n",
    "        imgps = Image.fromarray(array1)\n",
    "        imgps.show()\n",
    "        Ir2 = np.asarray(imgps)\n",
    "\n",
    "        array3 = np.zeros([h, w, 3], dtype=np.uint8)\n",
    "        random.seed(beta*g_power_ab*alpha)\n",
    "        array3.fill(random.randint(0, 255))\n",
    "        imgps3 = Image.fromarray(array3)\n",
    "        imgps3.show()\n",
    "        Ir4 = np.asarray(imgps3)\n",
    "\n",
    "        img_global = Image.open(\"1.jpg\")\n",
    "        Ir3 = np.asarray(img_global)\n",
    "\n",
    "        Ires = np.asarray(img_fuse)\n",
    "\n",
    "        Idecode = (((Ires - Ir4) - (beta * Ir3)) - Ir2)\n",
    "        img_res = Image.fromarray(Idecode)\n",
    "        img_res.show()\n",
    "        message = ''\n",
    "        pix = img_res.load()\n",
    "\n",
    "        for j in range(h):\n",
    "            for i in range(w):\n",
    "                for keys, values in dict_id.items():\n",
    "                    if set(pix[i, j]).issubset(values):\n",
    "                        message = message+keys\n",
    "\n",
    "        asci = 0\n",
    "        for i in message:\n",
    "            asci = asci + ord(i)\n",
    "        si = str(pow(asci, beta))\n",
    "\n",
    "        s_hash_msg = s_hash_msg+si\n",
    "        authenticate(s_hash_msg, signature_dsa)\n",
    "        return(message)"
   ]
  },
  {
   "cell_type": "markdown",
   "metadata": {},
   "source": [
    "### GENERATING RESULT"
   ]
  },
  {
   "cell_type": "code",
   "execution_count": 12,
   "metadata": {},
   "outputs": [
    {
     "name": "stdout",
     "output_type": "stream",
     "text": [
      "A     [97, 196, 9, 1, 219, 249, 156, 206, 10]\n",
      "B     [27, 225, 227, 223, 62, 146, 149, 99, 207]\n",
      "C     [222, 157, 187, 128, 208, 11, 188, 129, 209]\n",
      "D     [143, 107, 2, 220, 250, 158, 210, 12, 189]\n",
      "E     [13, 190, 228, 224, 63, 147, 150, 100, 211]\n",
      "F     [226, 159, 191, 130, 212, 14, 192, 131, 213]\n",
      "G     [144, 108, 3, 221, 251, 160, 214, 15, 193]\n",
      "H     [16, 194, 229, 230, 64, 148, 151, 101, 215]\n",
      "I     [231, 161, 195, 132, 216, 17, 197, 133, 217]\n",
      "J     [145, 109, 4, 232, 252, 162, 218, 18, 198]\n",
      "K     [19, 199, 233, 234, 65, 152, 153, 102, 235]\n",
      "L     [236, 163, 200, 134, 237, 20, 201, 135, 238]\n",
      "M     [154, 110, 5, 239, 253, 164, 240, 21, 202]\n",
      "N     [22, 203, 241, 242, 66, 155, 165, 103, 243]\n",
      "O     [244, 166, 204, 136, 245, 23, 205, 137, 246]\n",
      "P     [167, 111, 6, 247, 254, 168, 248, 24, 255]\n",
      "Q     [25, 0, 7, 8, 67, 169, 170, 104, 26]\n",
      "R     [28, 171, 29, 138, 30, 31, 32, 139, 33]\n",
      "S     [172, 112, 34, 35, 36, 173, 37, 38, 39]\n",
      "T     [40, 41, 42, 43, 68, 174, 175, 105, 44]\n",
      "U     [45, 176, 46, 140, 47, 48, 49, 141, 50]\n",
      "V     [177, 113, 51, 52, 53, 178, 54, 55, 56]\n",
      "W     [57, 58, 59, 60, 69, 179, 180, 106, 61]\n",
      "X     [70, 181, 71, 142, 72, 73, 74, 182, 75]\n",
      "Y     [183, 114, 76, 77, 78, 184, 79, 80, 81]\n",
      "Z     [82, 83, 84, 85, 86, 185, 186, 115, 87]\n",
      "The message is authentic.\n"
     ]
    }
   ],
   "source": [
    "class_receiver = RECEIVER_STEP_2()\n",
    "m = class_receiver.decipher()"
   ]
  },
  {
   "cell_type": "code",
   "execution_count": 13,
   "metadata": {},
   "outputs": [
    {
     "name": "stdout",
     "output_type": "stream",
     "text": [
      "NMAMITNIT\n"
     ]
    }
   ],
   "source": [
    "print(m)"
   ]
  },
  {
   "cell_type": "markdown",
   "metadata": {},
   "source": [
    "### FINAL OUTPUT"
   ]
  }
 ],
 "metadata": {
  "kernelspec": {
   "display_name": "Python 3",
   "language": "python",
   "name": "python3"
  },
  "language_info": {
   "codemirror_mode": {
    "name": "ipython",
    "version": 3
   },
   "file_extension": ".py",
   "mimetype": "text/x-python",
   "name": "python",
   "nbconvert_exporter": "python",
   "pygments_lexer": "ipython3",
   "version": "3.8.5"
  }
 },
 "nbformat": 4,
 "nbformat_minor": 2
}
